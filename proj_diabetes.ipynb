{
 "cells": [
  {
   "cell_type": "markdown",
   "metadata": {},
   "source": [
    "Diabetes detection using machine learning -> Logistic Regression,Support Vector Machine including Feature selection"
   ]
  },
  {
   "cell_type": "code",
   "execution_count": 49,
   "metadata": {},
   "outputs": [],
   "source": [
    "import numpy as np                                                 #important library to be used\n",
    "import pandas as pd                       \n",
    "from matplotlib import pyplot as plt\n",
    "import seaborn as sns"
   ]
  },
  {
   "cell_type": "code",
   "execution_count": 50,
   "metadata": {},
   "outputs": [],
   "source": [
    "%matplotlib inline"
   ]
  },
  {
   "cell_type": "code",
   "execution_count": 51,
   "metadata": {},
   "outputs": [
    {
     "data": {
      "text/html": [
       "<div>\n",
       "<style scoped>\n",
       "    .dataframe tbody tr th:only-of-type {\n",
       "        vertical-align: middle;\n",
       "    }\n",
       "\n",
       "    .dataframe tbody tr th {\n",
       "        vertical-align: top;\n",
       "    }\n",
       "\n",
       "    .dataframe thead th {\n",
       "        text-align: right;\n",
       "    }\n",
       "</style>\n",
       "<table border=\"1\" class=\"dataframe\">\n",
       "  <thead>\n",
       "    <tr style=\"text-align: right;\">\n",
       "      <th></th>\n",
       "      <th>Pregnancies</th>\n",
       "      <th>Glucose</th>\n",
       "      <th>BloodPressure</th>\n",
       "      <th>SkinThickness</th>\n",
       "      <th>Insulin</th>\n",
       "      <th>BMI</th>\n",
       "      <th>DiabetesPedigreeFunction</th>\n",
       "      <th>Age</th>\n",
       "      <th>Outcome</th>\n",
       "    </tr>\n",
       "  </thead>\n",
       "  <tbody>\n",
       "    <tr>\n",
       "      <th>0</th>\n",
       "      <td>6</td>\n",
       "      <td>148</td>\n",
       "      <td>72</td>\n",
       "      <td>35</td>\n",
       "      <td>0</td>\n",
       "      <td>33.6</td>\n",
       "      <td>0.627</td>\n",
       "      <td>50</td>\n",
       "      <td>1</td>\n",
       "    </tr>\n",
       "    <tr>\n",
       "      <th>1</th>\n",
       "      <td>1</td>\n",
       "      <td>85</td>\n",
       "      <td>66</td>\n",
       "      <td>29</td>\n",
       "      <td>0</td>\n",
       "      <td>26.6</td>\n",
       "      <td>0.351</td>\n",
       "      <td>31</td>\n",
       "      <td>0</td>\n",
       "    </tr>\n",
       "    <tr>\n",
       "      <th>2</th>\n",
       "      <td>8</td>\n",
       "      <td>183</td>\n",
       "      <td>64</td>\n",
       "      <td>0</td>\n",
       "      <td>0</td>\n",
       "      <td>23.3</td>\n",
       "      <td>0.672</td>\n",
       "      <td>32</td>\n",
       "      <td>1</td>\n",
       "    </tr>\n",
       "  </tbody>\n",
       "</table>\n",
       "</div>"
      ],
      "text/plain": [
       "   Pregnancies  Glucose  BloodPressure  SkinThickness  Insulin   BMI  \\\n",
       "0            6      148             72             35        0  33.6   \n",
       "1            1       85             66             29        0  26.6   \n",
       "2            8      183             64              0        0  23.3   \n",
       "\n",
       "   DiabetesPedigreeFunction  Age  Outcome  \n",
       "0                     0.627   50        1  \n",
       "1                     0.351   31        0  \n",
       "2                     0.672   32        1  "
      ]
     },
     "execution_count": 51,
     "metadata": {},
     "output_type": "execute_result"
    }
   ],
   "source": [
    "dataframe=pd.read_csv('C:\\\\Users\\\\ankur\\\\Downloads\\\\diabetes.csv')  #reading Dataset and saving in dataframe\n",
    "dataframe.head(3)"
   ]
  },
  {
   "cell_type": "code",
   "execution_count": 52,
   "metadata": {},
   "outputs": [],
   "source": [
    "feature=dataframe.drop('Outcome',axis=1)              #Selecting all columns excluding Outcome"
   ]
  },
  {
   "cell_type": "code",
   "execution_count": 53,
   "metadata": {},
   "outputs": [
    {
     "data": {
      "text/plain": [
       "0      1\n",
       "1      0\n",
       "2      1\n",
       "3      0\n",
       "4      1\n",
       "      ..\n",
       "763    0\n",
       "764    0\n",
       "765    0\n",
       "766    1\n",
       "767    0\n",
       "Name: Outcome, Length: 768, dtype: int64"
      ]
     },
     "execution_count": 53,
     "metadata": {},
     "output_type": "execute_result"
    }
   ],
   "source": [
    "target=dataframe['Outcome']                           #Target is Outcome column\n",
    "target                                                              "
   ]
  },
  {
   "cell_type": "code",
   "execution_count": 54,
   "metadata": {},
   "outputs": [
    {
     "data": {
      "text/html": [
       "<div>\n",
       "<style scoped>\n",
       "    .dataframe tbody tr th:only-of-type {\n",
       "        vertical-align: middle;\n",
       "    }\n",
       "\n",
       "    .dataframe tbody tr th {\n",
       "        vertical-align: top;\n",
       "    }\n",
       "\n",
       "    .dataframe thead th {\n",
       "        text-align: right;\n",
       "    }\n",
       "</style>\n",
       "<table border=\"1\" class=\"dataframe\">\n",
       "  <thead>\n",
       "    <tr style=\"text-align: right;\">\n",
       "      <th></th>\n",
       "      <th>Pregnancies</th>\n",
       "      <th>Glucose</th>\n",
       "      <th>BloodPressure</th>\n",
       "      <th>SkinThickness</th>\n",
       "      <th>Insulin</th>\n",
       "      <th>BMI</th>\n",
       "      <th>DiabetesPedigreeFunction</th>\n",
       "      <th>Age</th>\n",
       "    </tr>\n",
       "  </thead>\n",
       "  <tbody>\n",
       "    <tr>\n",
       "      <th>0</th>\n",
       "      <td>6</td>\n",
       "      <td>148</td>\n",
       "      <td>72</td>\n",
       "      <td>35</td>\n",
       "      <td>0</td>\n",
       "      <td>33.6</td>\n",
       "      <td>0.627</td>\n",
       "      <td>50</td>\n",
       "    </tr>\n",
       "    <tr>\n",
       "      <th>1</th>\n",
       "      <td>1</td>\n",
       "      <td>85</td>\n",
       "      <td>66</td>\n",
       "      <td>29</td>\n",
       "      <td>0</td>\n",
       "      <td>26.6</td>\n",
       "      <td>0.351</td>\n",
       "      <td>31</td>\n",
       "    </tr>\n",
       "    <tr>\n",
       "      <th>2</th>\n",
       "      <td>8</td>\n",
       "      <td>183</td>\n",
       "      <td>64</td>\n",
       "      <td>0</td>\n",
       "      <td>0</td>\n",
       "      <td>23.3</td>\n",
       "      <td>0.672</td>\n",
       "      <td>32</td>\n",
       "    </tr>\n",
       "    <tr>\n",
       "      <th>3</th>\n",
       "      <td>1</td>\n",
       "      <td>89</td>\n",
       "      <td>66</td>\n",
       "      <td>23</td>\n",
       "      <td>94</td>\n",
       "      <td>28.1</td>\n",
       "      <td>0.167</td>\n",
       "      <td>21</td>\n",
       "    </tr>\n",
       "    <tr>\n",
       "      <th>4</th>\n",
       "      <td>0</td>\n",
       "      <td>137</td>\n",
       "      <td>40</td>\n",
       "      <td>35</td>\n",
       "      <td>168</td>\n",
       "      <td>43.1</td>\n",
       "      <td>2.288</td>\n",
       "      <td>33</td>\n",
       "    </tr>\n",
       "  </tbody>\n",
       "</table>\n",
       "</div>"
      ],
      "text/plain": [
       "   Pregnancies  Glucose  BloodPressure  SkinThickness  Insulin   BMI  \\\n",
       "0            6      148             72             35        0  33.6   \n",
       "1            1       85             66             29        0  26.6   \n",
       "2            8      183             64              0        0  23.3   \n",
       "3            1       89             66             23       94  28.1   \n",
       "4            0      137             40             35      168  43.1   \n",
       "\n",
       "   DiabetesPedigreeFunction  Age  \n",
       "0                     0.627   50  \n",
       "1                     0.351   31  \n",
       "2                     0.672   32  \n",
       "3                     0.167   21  \n",
       "4                     2.288   33  "
      ]
     },
     "execution_count": 54,
     "metadata": {},
     "output_type": "execute_result"
    }
   ],
   "source": [
    "feature.head(5)                                  #feature "
   ]
  },
  {
   "cell_type": "code",
   "execution_count": 55,
   "metadata": {},
   "outputs": [
    {
     "data": {
      "text/plain": [
       "<matplotlib.axes._subplots.AxesSubplot at 0x1bf79365400>"
      ]
     },
     "execution_count": 55,
     "metadata": {},
     "output_type": "execute_result"
    },
    {
     "data": {
      "image/png": "[encoded data removed]",
      "text/plain": [
       "<Figure size 432x288 with 1 Axes>"
      ]
     },
     "metadata": {
      "needs_background": "light"
     },
     "output_type": "display_data"
    }
   ],
   "source": [
    "sns.boxplot(target,feature['BMI'])             ##BMI ,higher BMI for diabetic"
   ]
  },
  {
   "cell_type": "code",
   "execution_count": 56,
   "metadata": {},
   "outputs": [
    {
     "data": {
      "text/plain": [
       "<matplotlib.axes._subplots.AxesSubplot at 0x1bf7b4255c0>"
      ]
     },
     "execution_count": 56,
     "metadata": {},
     "output_type": "execute_result"
    },
    {
     "data": {
      "image/png": "[encoded data removed]",
      "text/plain": [
       "<Figure size 432x288 with 1 Axes>"
      ]
     },
     "metadata": {
      "needs_background": "light"
     },
     "output_type": "display_data"
    }
   ],
   "source": [
    "sns.boxplot(target,feature['Glucose'])       ##Glucose ,higher Glucose for diabetic"
   ]
  },
  {
   "cell_type": "code",
   "execution_count": 57,
   "metadata": {},
   "outputs": [
    {
     "data": {
      "text/plain": [
       "<matplotlib.axes._subplots.AxesSubplot at 0x1bf7b4add30>"
      ]
     },
     "execution_count": 57,
     "metadata": {},
     "output_type": "execute_result"
    },
    {
     "data": {
      "image/png": "[encoded data removed]",
      "text/plain": [
       "<Figure size 432x288 with 1 Axes>"
      ]
     },
     "metadata": {
      "needs_background": "light"
     },
     "output_type": "display_data"
    }
   ],
   "source": [
    "sns.boxplot(target,feature['Age'])       #Age 40-50 are more likely to be diabetic"
   ]
  },
  {
   "cell_type": "code",
   "execution_count": 58,
   "metadata": {},
   "outputs": [
    {
     "data": {
      "text/plain": [
       "<matplotlib.axes._subplots.AxesSubplot at 0x1bf7b513d30>"
      ]
     },
     "execution_count": 58,
     "metadata": {},
     "output_type": "execute_result"
    },
    {
     "data": {
      "image/png": "[encoded data removed]",
      "text/plain": [
       "<Figure size 432x288 with 1 Axes>"
      ]
     },
     "metadata": {
      "needs_background": "light"
     },
     "output_type": "display_data"
    }
   ],
   "source": [
    "sns.boxplot(target,feature['BloodPressure'])     #No clear classification based on BP"
   ]
  },
  {
   "cell_type": "code",
   "execution_count": 59,
   "metadata": {},
   "outputs": [
    {
     "data": {
      "text/plain": [
       "<matplotlib.axes._subplots.AxesSubplot at 0x1bf7b573128>"
      ]
     },
     "execution_count": 59,
     "metadata": {},
     "output_type": "execute_result"
    },
    {
     "data": {
      "image/png": "[encoded data removed]",
      "text/plain": [
       "<Figure size 432x288 with 1 Axes>"
      ]
     },
     "metadata": {
      "needs_background": "light"
     },
     "output_type": "display_data"
    }
   ],
   "source": [
    "sns.boxplot(target,feature['Insulin'])"
   ]
  },
  {
   "cell_type": "code",
   "execution_count": 60,
   "metadata": {},
   "outputs": [
    {
     "data": {
      "text/plain": [
       "<matplotlib.axes._subplots.AxesSubplot at 0x1bf7b5d2c18>"
      ]
     },
     "execution_count": 60,
     "metadata": {},
     "output_type": "execute_result"
    },
    {
     "data": {
      "image/png": "[encoded data removed]",
      "text/plain": [
       "<Figure size 432x288 with 1 Axes>"
      ]
     },
     "metadata": {
      "needs_background": "light"
     },
     "output_type": "display_data"
    }
   ],
   "source": [
    "sns.boxplot(target,feature['Pregnancies'])             #More than 5 Pregnancies  are more likely to be diabetic"
   ]
  },
  {
   "cell_type": "code",
   "execution_count": 61,
   "metadata": {},
   "outputs": [
    {
     "data": {
      "text/plain": [
       "<matplotlib.axes._subplots.AxesSubplot at 0x1bf7b65f7f0>"
      ]
     },
     "execution_count": 61,
     "metadata": {},
     "output_type": "execute_result"
    },
    {
     "data": {
      "image/png": "[encoded data removed]",
      "text/plain": [
       "<Figure size 432x288 with 1 Axes>"
      ]
     },
     "metadata": {
      "needs_background": "light"
     },
     "output_type": "display_data"
    }
   ],
   "source": [
    "sns.boxplot(target,feature['SkinThickness'])"
   ]
  },
  {
   "cell_type": "code",
   "execution_count": 62,
   "metadata": {},
   "outputs": [
    {
     "data": {
      "text/plain": [
       "<matplotlib.axes._subplots.AxesSubplot at 0x1bf7b6a92b0>"
      ]
     },
     "execution_count": 62,
     "metadata": {},
     "output_type": "execute_result"
    },
    {
     "data": {
      "image/png": "[encoded data removed]",
      "text/plain": [
       "<Figure size 432x288 with 1 Axes>"
      ]
     },
     "metadata": {
      "needs_background": "light"
     },
     "output_type": "display_data"
    }
   ],
   "source": [
    "sns.boxplot(target,feature['DiabetesPedigreeFunction'])   # More than 0.5 DPF is supporing for diabetes"
   ]
  },
  {
   "cell_type": "markdown",
   "metadata": {},
   "source": [
    "## Preprocessing data"
   ]
  },
  {
   "cell_type": "code",
   "execution_count": 10,
   "metadata": {},
   "outputs": [
    {
     "data": {
      "text/plain": [
       "((768, 8), (768, 1))"
      ]
     },
     "execution_count": 10,
     "metadata": {},
     "output_type": "execute_result"
    }
   ],
   "source": [
    "feature_array=feature.iloc[:].values\n",
    "target_array=target.values.reshape(-1,1)\n",
    "feature_array.shape,target_array.shape"
   ]
  },
  {
   "cell_type": "code",
   "execution_count": 65,
   "metadata": {},
   "outputs": [],
   "source": [
    "from sklearn.preprocessing import normalize                      #using normalization for making all data upto some scale"
   ]
  },
  {
   "cell_type": "code",
   "execution_count": 80,
   "metadata": {},
   "outputs": [],
   "source": [
    "feature_array=normalize(feature_array,norm='l2')"
   ]
  },
  {
   "cell_type": "markdown",
   "metadata": {},
   "source": [
    "Splitting the data test=24% ,training=76%  using scikit-learn(sklearn)    "
   ]
  },
  {
   "cell_type": "code",
   "execution_count": 81,
   "metadata": {},
   "outputs": [],
   "source": [
    "from sklearn.model_selection import train_test_split                                          \n",
    "x_train,x_test,y_train,y_test=train_test_split(feature_array,target_array,test_size=0.24)                  "
   ]
  },
  {
   "cell_type": "code",
   "execution_count": 82,
   "metadata": {},
   "outputs": [],
   "source": [
    "from sklearn.linear_model import LogisticRegression             #importing Logistic Regression class"
   ]
  },
  {
   "cell_type": "code",
   "execution_count": 83,
   "metadata": {},
   "outputs": [],
   "source": [
    "LR_first=LogisticRegression()                                #initializing  LogisticRegression class"
   ]
  },
  {
   "cell_type": "code",
   "execution_count": 84,
   "metadata": {},
   "outputs": [
    {
     "data": {
      "text/plain": [
       "LogisticRegression(C=1.0, class_weight=None, dual=False, fit_intercept=True,\n",
       "          intercept_scaling=1, max_iter=100, multi_class='warn',\n",
       "          n_jobs=None, penalty='l2', random_state=None, solver='warn',\n",
       "          tol=0.0001, verbose=0, warm_start=False)"
      ]
     },
     "execution_count": 84,
     "metadata": {},
     "output_type": "execute_result"
    }
   ],
   "source": [
    "LR_first"
   ]
  },
  {
   "cell_type": "code",
   "execution_count": 85,
   "metadata": {},
   "outputs": [
    {
     "name": "stderr",
     "output_type": "stream",
     "text": [
      "c:\\users\\ankur\\appdata\\local\\programs\\python\\python36\\lib\\site-packages\\sklearn\\linear_model\\logistic.py:432: FutureWarning: Default solver will be changed to 'lbfgs' in 0.22. Specify a solver to silence this warning.\n",
      "  FutureWarning)\n",
      "c:\\users\\ankur\\appdata\\local\\programs\\python\\python36\\lib\\site-packages\\sklearn\\utils\\validation.py:752: DataConversionWarning: A column-vector y was passed when a 1d array was expected. Please change the shape of y to (n_samples, ), for example using ravel().\n",
      "  y = column_or_1d(y, warn=True)\n"
     ]
    },
    {
     "data": {
      "text/plain": [
       "LogisticRegression(C=1.0, class_weight=None, dual=False, fit_intercept=True,\n",
       "          intercept_scaling=1, max_iter=100, multi_class='warn',\n",
       "          n_jobs=None, penalty='l2', random_state=None, solver='warn',\n",
       "          tol=0.0001, verbose=0, warm_start=False)"
      ]
     },
     "execution_count": 85,
     "metadata": {},
     "output_type": "execute_result"
    }
   ],
   "source": [
    "LR_first.fit(x_train,y_train)"
   ]
  },
  {
   "cell_type": "code",
   "execution_count": 86,
   "metadata": {},
   "outputs": [],
   "source": [
    "prediction=LR_first.predict(x_test)"
   ]
  },
  {
   "cell_type": "markdown",
   "metadata": {},
   "source": [
    "### Importing model evaluation metrics like confusion Matrix,accuracy,recall using sklearn.metrics"
   ]
  },
  {
   "cell_type": "code",
   "execution_count": 87,
   "metadata": {},
   "outputs": [],
   "source": [
    "from sklearn.metrics import confusion_matrix,accuracy_score,recall_score    "
   ]
  },
  {
   "cell_type": "code",
   "execution_count": 88,
   "metadata": {},
   "outputs": [
    {
     "name": "stdout",
     "output_type": "stream",
     "text": [
      "TN=115 \n",
      "FP=6 \n",
      "FN=62 \n",
      "TP=2\n"
     ]
    }
   ],
   "source": [
    "TN,FP,FN,TP=confusion_matrix(y_test,prediction).ravel()\n",
    "print('TN=%d \\nFP=%d \\nFN=%d \\nTP=%d'%(TN,FP,FN,TP))"
   ]
  },
  {
   "cell_type": "code",
   "execution_count": 89,
   "metadata": {},
   "outputs": [
    {
     "data": {
      "text/plain": [
       "0.6324324324324324"
      ]
     },
     "execution_count": 89,
     "metadata": {},
     "output_type": "execute_result"
    }
   ],
   "source": [
    "accuracy=accuracy_score(y_test,prediction)  \n",
    "accuracy\n",
    "#(104+35)/(109+31+7+38)"
   ]
  },
  {
   "cell_type": "code",
   "execution_count": 90,
   "metadata": {},
   "outputs": [
    {
     "data": {
      "text/plain": [
       "0.03125"
      ]
     },
     "execution_count": 90,
     "metadata": {},
     "output_type": "execute_result"
    }
   ],
   "source": [
    "recall_score(y_test,prediction)\n",
    "#35/(35+31)"
   ]
  },
  {
   "cell_type": "code",
   "execution_count": 92,
   "metadata": {},
   "outputs": [
    {
     "data": {
      "text/plain": [
       "array([0.03355237, 0.82762513, 0.40262844, 0.19572216, 0.        ,\n",
       "       0.18789327, 0.00350622, 0.27960308])"
      ]
     },
     "execution_count": 92,
     "metadata": {},
     "output_type": "execute_result"
    }
   ],
   "source": [
    "feature_array[0]"
   ]
  },
  {
   "cell_type": "code",
   "execution_count": 78,
   "metadata": {},
   "outputs": [
    {
     "data": {
      "text/plain": [
       "array([0, 0, 0, 0, 0, 0, 0, 1, 0], dtype=int64)"
      ]
     },
     "execution_count": 78,
     "metadata": {},
     "output_type": "execute_result"
    }
   ],
   "source": [
    "LR_first.predict(feature[0:9])"
   ]
  },
  {
   "cell_type": "code",
   "execution_count": 79,
   "metadata": {},
   "outputs": [
    {
     "data": {
      "text/plain": [
       "0    1\n",
       "1    0\n",
       "2    1\n",
       "3    0\n",
       "4    1\n",
       "5    0\n",
       "6    1\n",
       "7    0\n",
       "8    1\n",
       "Name: Outcome, dtype: int64"
      ]
     },
     "execution_count": 79,
     "metadata": {},
     "output_type": "execute_result"
    }
   ],
   "source": [
    "target[0:9]"
   ]
  },
  {
   "cell_type": "code",
   "execution_count": 63,
   "metadata": {},
   "outputs": [],
   "source": [
    "x=np.array([[0,125,72,35,0,33.6,0.6,30]])               ## making prediction by user input"
   ]
  },
  {
   "cell_type": "code",
   "execution_count": 64,
   "metadata": {},
   "outputs": [
    {
     "data": {
      "text/plain": [
       "array([0], dtype=int64)"
      ]
     },
     "execution_count": 64,
     "metadata": {},
     "output_type": "execute_result"
    }
   ],
   "source": [
    "LR_first.predict(x)"
   ]
  },
  {
   "cell_type": "markdown",
   "metadata": {},
   "source": [
    "## After selecting  Glucose,BloodPressure,BMI,Age"
   ]
  },
  {
   "cell_type": "code",
   "execution_count": 136,
   "metadata": {},
   "outputs": [],
   "source": [
    "Dataframe_New=pd.DataFrame({'Pregnancies':dataframe.Pregnancies ,'Glucose':dataframe.Glucose,'BloodPressure':dataframe.BloodPressure,'BMI':dataframe.BMI,'DPF':dataframe.DiabetesPedigreeFunction,'Age':dataframe.Age})"
   ]
  },
  {
   "cell_type": "code",
   "execution_count": 137,
   "metadata": {},
   "outputs": [
    {
     "data": {
      "text/html": [
       "<div>\n",
       "<style scoped>\n",
       "    .dataframe tbody tr th:only-of-type {\n",
       "        vertical-align: middle;\n",
       "    }\n",
       "\n",
       "    .dataframe tbody tr th {\n",
       "        vertical-align: top;\n",
       "    }\n",
       "\n",
       "    .dataframe thead th {\n",
       "        text-align: right;\n",
       "    }\n",
       "</style>\n",
       "<table border=\"1\" class=\"dataframe\">\n",
       "  <thead>\n",
       "    <tr style=\"text-align: right;\">\n",
       "      <th></th>\n",
       "      <th>Pregnancies</th>\n",
       "      <th>Glucose</th>\n",
       "      <th>BloodPressure</th>\n",
       "      <th>BMI</th>\n",
       "      <th>DPF</th>\n",
       "      <th>Age</th>\n",
       "    </tr>\n",
       "  </thead>\n",
       "  <tbody>\n",
       "    <tr>\n",
       "      <th>0</th>\n",
       "      <td>6</td>\n",
       "      <td>148</td>\n",
       "      <td>72</td>\n",
       "      <td>33.6</td>\n",
       "      <td>0.627</td>\n",
       "      <td>50</td>\n",
       "    </tr>\n",
       "    <tr>\n",
       "      <th>1</th>\n",
       "      <td>1</td>\n",
       "      <td>85</td>\n",
       "      <td>66</td>\n",
       "      <td>26.6</td>\n",
       "      <td>0.351</td>\n",
       "      <td>31</td>\n",
       "    </tr>\n",
       "    <tr>\n",
       "      <th>2</th>\n",
       "      <td>8</td>\n",
       "      <td>183</td>\n",
       "      <td>64</td>\n",
       "      <td>23.3</td>\n",
       "      <td>0.672</td>\n",
       "      <td>32</td>\n",
       "    </tr>\n",
       "    <tr>\n",
       "      <th>3</th>\n",
       "      <td>1</td>\n",
       "      <td>89</td>\n",
       "      <td>66</td>\n",
       "      <td>28.1</td>\n",
       "      <td>0.167</td>\n",
       "      <td>21</td>\n",
       "    </tr>\n",
       "    <tr>\n",
       "      <th>4</th>\n",
       "      <td>0</td>\n",
       "      <td>137</td>\n",
       "      <td>40</td>\n",
       "      <td>43.1</td>\n",
       "      <td>2.288</td>\n",
       "      <td>33</td>\n",
       "    </tr>\n",
       "    <tr>\n",
       "      <th>...</th>\n",
       "      <td>...</td>\n",
       "      <td>...</td>\n",
       "      <td>...</td>\n",
       "      <td>...</td>\n",
       "      <td>...</td>\n",
       "      <td>...</td>\n",
       "    </tr>\n",
       "    <tr>\n",
       "      <th>763</th>\n",
       "      <td>10</td>\n",
       "      <td>101</td>\n",
       "      <td>76</td>\n",
       "      <td>32.9</td>\n",
       "      <td>0.171</td>\n",
       "      <td>63</td>\n",
       "    </tr>\n",
       "    <tr>\n",
       "      <th>764</th>\n",
       "      <td>2</td>\n",
       "      <td>122</td>\n",
       "      <td>70</td>\n",
       "      <td>36.8</td>\n",
       "      <td>0.340</td>\n",
       "      <td>27</td>\n",
       "    </tr>\n",
       "    <tr>\n",
       "      <th>765</th>\n",
       "      <td>5</td>\n",
       "      <td>121</td>\n",
       "      <td>72</td>\n",
       "      <td>26.2</td>\n",
       "      <td>0.245</td>\n",
       "      <td>30</td>\n",
       "    </tr>\n",
       "    <tr>\n",
       "      <th>766</th>\n",
       "      <td>1</td>\n",
       "      <td>126</td>\n",
       "      <td>60</td>\n",
       "      <td>30.1</td>\n",
       "      <td>0.349</td>\n",
       "      <td>47</td>\n",
       "    </tr>\n",
       "    <tr>\n",
       "      <th>767</th>\n",
       "      <td>1</td>\n",
       "      <td>93</td>\n",
       "      <td>70</td>\n",
       "      <td>30.4</td>\n",
       "      <td>0.315</td>\n",
       "      <td>23</td>\n",
       "    </tr>\n",
       "  </tbody>\n",
       "</table>\n",
       "<p>768 rows × 6 columns</p>\n",
       "</div>"
      ],
      "text/plain": [
       "     Pregnancies  Glucose  BloodPressure   BMI    DPF  Age\n",
       "0              6      148             72  33.6  0.627   50\n",
       "1              1       85             66  26.6  0.351   31\n",
       "2              8      183             64  23.3  0.672   32\n",
       "3              1       89             66  28.1  0.167   21\n",
       "4              0      137             40  43.1  2.288   33\n",
       "..           ...      ...            ...   ...    ...  ...\n",
       "763           10      101             76  32.9  0.171   63\n",
       "764            2      122             70  36.8  0.340   27\n",
       "765            5      121             72  26.2  0.245   30\n",
       "766            1      126             60  30.1  0.349   47\n",
       "767            1       93             70  30.4  0.315   23\n",
       "\n",
       "[768 rows x 6 columns]"
      ]
     },
     "execution_count": 137,
     "metadata": {},
     "output_type": "execute_result"
    }
   ],
   "source": [
    "Dataframe_New"
   ]
  },
  {
   "cell_type": "code",
   "execution_count": 241,
   "metadata": {},
   "outputs": [
    {
     "data": {
      "text/html": [
       "<div>\n",
       "<style scoped>\n",
       "    .dataframe tbody tr th:only-of-type {\n",
       "        vertical-align: middle;\n",
       "    }\n",
       "\n",
       "    .dataframe tbody tr th {\n",
       "        vertical-align: top;\n",
       "    }\n",
       "\n",
       "    .dataframe thead th {\n",
       "        text-align: right;\n",
       "    }\n",
       "</style>\n",
       "<table border=\"1\" class=\"dataframe\">\n",
       "  <thead>\n",
       "    <tr style=\"text-align: right;\">\n",
       "      <th></th>\n",
       "      <th>Pregnancies</th>\n",
       "      <th>Glucose</th>\n",
       "      <th>BloodPressure</th>\n",
       "      <th>SkinThickness</th>\n",
       "      <th>Insulin</th>\n",
       "      <th>BMI</th>\n",
       "      <th>DiabetesPedigreeFunction</th>\n",
       "      <th>Age</th>\n",
       "      <th>Outcome</th>\n",
       "    </tr>\n",
       "  </thead>\n",
       "  <tbody>\n",
       "    <tr>\n",
       "      <th>0</th>\n",
       "      <td>6</td>\n",
       "      <td>148</td>\n",
       "      <td>72</td>\n",
       "      <td>35</td>\n",
       "      <td>0</td>\n",
       "      <td>33.6</td>\n",
       "      <td>0.627</td>\n",
       "      <td>50</td>\n",
       "      <td>1</td>\n",
       "    </tr>\n",
       "    <tr>\n",
       "      <th>1</th>\n",
       "      <td>1</td>\n",
       "      <td>85</td>\n",
       "      <td>66</td>\n",
       "      <td>29</td>\n",
       "      <td>0</td>\n",
       "      <td>26.6</td>\n",
       "      <td>0.351</td>\n",
       "      <td>31</td>\n",
       "      <td>0</td>\n",
       "    </tr>\n",
       "  </tbody>\n",
       "</table>\n",
       "</div>"
      ],
      "text/plain": [
       "   Pregnancies  Glucose  BloodPressure  SkinThickness  Insulin   BMI  \\\n",
       "0            6      148             72             35        0  33.6   \n",
       "1            1       85             66             29        0  26.6   \n",
       "\n",
       "   DiabetesPedigreeFunction  Age  Outcome  \n",
       "0                     0.627   50        1  \n",
       "1                     0.351   31        0  "
      ]
     },
     "execution_count": 241,
     "metadata": {},
     "output_type": "execute_result"
    }
   ],
   "source": [
    "\"\"\"feature_array=Dataframe_New.iloc[:].values\n",
    "target_array=target.values.reshape(-1,1)\n",
    "\"\"\"\n",
    "feature_array=dataframe.iloc[:].values\n",
    "target_array=target.values.reshape(-1,1)\n",
    "dataframe.head(2)"
   ]
  },
  {
   "cell_type": "code",
   "execution_count": 443,
   "metadata": {},
   "outputs": [
    {
     "data": {
      "text/plain": [
       "array([[114.],\n",
       "       [125.],\n",
       "       [167.],\n",
       "       [196.],\n",
       "       [189.],\n",
       "       [ 99.],\n",
       "       [111.],\n",
       "       [ 94.],\n",
       "       [ 97.],\n",
       "       [173.],\n",
       "       [ 87.],\n",
       "       [105.],\n",
       "       [162.],\n",
       "       [115.],\n",
       "       [ 92.],\n",
       "       [ 84.],\n",
       "       [118.],\n",
       "       [ 92.],\n",
       "       [158.],\n",
       "       [139.],\n",
       "       [134.],\n",
       "       [ 95.],\n",
       "       [ 71.],\n",
       "       [130.],\n",
       "       [112.],\n",
       "       [118.],\n",
       "       [146.],\n",
       "       [105.],\n",
       "       [151.],\n",
       "       [132.],\n",
       "       [124.],\n",
       "       [ 87.],\n",
       "       [102.],\n",
       "       [167.],\n",
       "       [108.],\n",
       "       [ 87.],\n",
       "       [156.],\n",
       "       [ 78.],\n",
       "       [179.],\n",
       "       [ 99.],\n",
       "       [122.],\n",
       "       [ 91.],\n",
       "       [131.],\n",
       "       [109.],\n",
       "       [ 91.],\n",
       "       [ 96.],\n",
       "       [152.],\n",
       "       [105.],\n",
       "       [122.],\n",
       "       [ 84.],\n",
       "       [126.],\n",
       "       [104.],\n",
       "       [ 95.],\n",
       "       [150.],\n",
       "       [122.],\n",
       "       [107.],\n",
       "       [117.],\n",
       "       [ 90.],\n",
       "       [ 90.],\n",
       "       [111.],\n",
       "       [176.],\n",
       "       [ 85.],\n",
       "       [100.],\n",
       "       [174.],\n",
       "       [ 84.],\n",
       "       [129.],\n",
       "       [194.],\n",
       "       [ 68.],\n",
       "       [ 80.],\n",
       "       [109.],\n",
       "       [120.],\n",
       "       [169.],\n",
       "       [ 88.],\n",
       "       [104.],\n",
       "       [162.],\n",
       "       [104.],\n",
       "       [122.],\n",
       "       [145.],\n",
       "       [141.],\n",
       "       [ 96.],\n",
       "       [146.],\n",
       "       [ 81.],\n",
       "       [106.],\n",
       "       [171.],\n",
       "       [100.],\n",
       "       [163.],\n",
       "       [171.],\n",
       "       [102.],\n",
       "       [ 89.],\n",
       "       [112.],\n",
       "       [112.],\n",
       "       [147.],\n",
       "       [ 95.],\n",
       "       [142.],\n",
       "       [106.],\n",
       "       [118.],\n",
       "       [162.],\n",
       "       [165.],\n",
       "       [139.],\n",
       "       [120.],\n",
       "       [ 97.],\n",
       "       [ 91.],\n",
       "       [173.],\n",
       "       [117.],\n",
       "       [143.],\n",
       "       [161.],\n",
       "       [120.],\n",
       "       [ 84.],\n",
       "       [167.],\n",
       "       [136.],\n",
       "       [133.],\n",
       "       [142.],\n",
       "       [135.],\n",
       "       [125.],\n",
       "       [ 93.],\n",
       "       [119.],\n",
       "       [102.],\n",
       "       [128.],\n",
       "       [113.],\n",
       "       [ 79.],\n",
       "       [163.],\n",
       "       [109.],\n",
       "       [123.],\n",
       "       [110.],\n",
       "       [102.],\n",
       "       [144.],\n",
       "       [116.],\n",
       "       [119.],\n",
       "       [111.],\n",
       "       [109.],\n",
       "       [ 99.],\n",
       "       [ 88.],\n",
       "       [144.],\n",
       "       [ 62.],\n",
       "       [139.],\n",
       "       [ 93.],\n",
       "       [129.],\n",
       "       [108.],\n",
       "       [ 68.],\n",
       "       [ 99.],\n",
       "       [116.],\n",
       "       [ 96.],\n",
       "       [130.],\n",
       "       [172.],\n",
       "       [ 76.],\n",
       "       [ 95.],\n",
       "       [116.],\n",
       "       [119.],\n",
       "       [144.],\n",
       "       [146.],\n",
       "       [166.],\n",
       "       [190.],\n",
       "       [131.],\n",
       "       [108.],\n",
       "       [124.],\n",
       "       [154.],\n",
       "       [137.],\n",
       "       [114.],\n",
       "       [121.],\n",
       "       [ 99.],\n",
       "       [108.],\n",
       "       [150.],\n",
       "       [128.],\n",
       "       [139.],\n",
       "       [ 93.],\n",
       "       [183.],\n",
       "       [125.],\n",
       "       [128.],\n",
       "       [109.],\n",
       "       [122.],\n",
       "       [154.],\n",
       "       [148.],\n",
       "       [156.],\n",
       "       [ 99.],\n",
       "       [ 87.],\n",
       "       [129.],\n",
       "       [140.],\n",
       "       [165.],\n",
       "       [105.],\n",
       "       [105.],\n",
       "       [ 86.],\n",
       "       [143.],\n",
       "       [187.],\n",
       "       [ 84.],\n",
       "       [112.],\n",
       "       [112.],\n",
       "       [137.],\n",
       "       [103.],\n",
       "       [129.],\n",
       "       [123.],\n",
       "       [150.],\n",
       "       [100.],\n",
       "       [ 74.],\n",
       "       [160.],\n",
       "       [189.],\n",
       "       [105.],\n",
       "       [123.],\n",
       "       [184.],\n",
       "       [114.],\n",
       "       [130.],\n",
       "       [140.],\n",
       "       [125.],\n",
       "       [188.],\n",
       "       [115.],\n",
       "       [111.],\n",
       "       [146.],\n",
       "       [154.],\n",
       "       [158.],\n",
       "       [188.],\n",
       "       [179.],\n",
       "       [117.],\n",
       "       [120.],\n",
       "       [ 57.],\n",
       "       [100.],\n",
       "       [138.],\n",
       "       [ 97.],\n",
       "       [102.],\n",
       "       [ 90.],\n",
       "       [121.],\n",
       "       [111.],\n",
       "       [151.],\n",
       "       [151.],\n",
       "       [155.],\n",
       "       [ 84.],\n",
       "       [142.],\n",
       "       [105.],\n",
       "       [142.],\n",
       "       [138.],\n",
       "       [181.],\n",
       "       [ 80.],\n",
       "       [107.],\n",
       "       [ 68.],\n",
       "       [ 82.],\n",
       "       [ 97.],\n",
       "       [134.],\n",
       "       [104.],\n",
       "       [ 99.],\n",
       "       [127.],\n",
       "       [ 90.],\n",
       "       [197.],\n",
       "       [119.],\n",
       "       [129.],\n",
       "       [111.],\n",
       "       [106.],\n",
       "       [136.],\n",
       "       [112.],\n",
       "       [155.],\n",
       "       [111.],\n",
       "       [ 82.],\n",
       "       [ 83.],\n",
       "       [108.],\n",
       "       [ 90.],\n",
       "       [120.],\n",
       "       [120.],\n",
       "       [187.],\n",
       "       [ 96.],\n",
       "       [ 92.],\n",
       "       [ 91.],\n",
       "       [127.],\n",
       "       [100.],\n",
       "       [104.],\n",
       "       [134.],\n",
       "       [155.],\n",
       "       [106.],\n",
       "       [100.],\n",
       "       [147.],\n",
       "       [102.],\n",
       "       [ 92.],\n",
       "       [ 91.],\n",
       "       [158.],\n",
       "       [ 80.],\n",
       "       [ 99.],\n",
       "       [161.],\n",
       "       [103.],\n",
       "       [168.],\n",
       "       [141.],\n",
       "       [ 90.],\n",
       "       [135.],\n",
       "       [181.],\n",
       "       [134.],\n",
       "       [108.],\n",
       "       [ 97.],\n",
       "       [ 96.],\n",
       "       [156.],\n",
       "       [146.],\n",
       "       [165.],\n",
       "       [ 90.],\n",
       "       [129.],\n",
       "       [ 97.],\n",
       "       [ 97.],\n",
       "       [114.],\n",
       "       [143.],\n",
       "       [116.],\n",
       "       [124.],\n",
       "       [ 93.],\n",
       "       [123.],\n",
       "       [ 78.],\n",
       "       [117.],\n",
       "       [120.],\n",
       "       [117.],\n",
       "       [123.],\n",
       "       [ 81.],\n",
       "       [ 86.],\n",
       "       [145.],\n",
       "       [117.],\n",
       "       [130.],\n",
       "       [ 72.],\n",
       "       [110.],\n",
       "       [139.],\n",
       "       [180.],\n",
       "       [115.],\n",
       "       [191.],\n",
       "       [154.],\n",
       "       [161.],\n",
       "       [127.],\n",
       "       [168.],\n",
       "       [125.],\n",
       "       [107.],\n",
       "       [154.],\n",
       "       [118.],\n",
       "       [ 97.],\n",
       "       [100.],\n",
       "       [ 92.],\n",
       "       [179.],\n",
       "       [ 80.],\n",
       "       [133.],\n",
       "       [103.],\n",
       "       [119.],\n",
       "       [ 81.],\n",
       "       [ 81.],\n",
       "       [115.],\n",
       "       [144.],\n",
       "       [110.],\n",
       "       [111.],\n",
       "       [111.],\n",
       "       [117.],\n",
       "       [130.],\n",
       "       [145.],\n",
       "       [ 85.],\n",
       "       [ 92.],\n",
       "       [122.],\n",
       "       [126.],\n",
       "       [ 95.],\n",
       "       [ 86.],\n",
       "       [197.],\n",
       "       [102.],\n",
       "       [ 96.],\n",
       "       [162.],\n",
       "       [118.],\n",
       "       [ 83.],\n",
       "       [ 81.],\n",
       "       [129.],\n",
       "       [ 89.],\n",
       "       [100.],\n",
       "       [114.],\n",
       "       [101.],\n",
       "       [106.],\n",
       "       [152.],\n",
       "       [125.],\n",
       "       [153.],\n",
       "       [109.],\n",
       "       [102.],\n",
       "       [125.],\n",
       "       [159.],\n",
       "       [100.],\n",
       "       [177.],\n",
       "       [128.],\n",
       "       [  0.],\n",
       "       [129.],\n",
       "       [ 84.],\n",
       "       [141.],\n",
       "       [114.],\n",
       "       [112.],\n",
       "       [100.],\n",
       "       [146.],\n",
       "       [ 81.],\n",
       "       [103.],\n",
       "       [107.],\n",
       "       [129.],\n",
       "       [141.],\n",
       "       [181.],\n",
       "       [ 88.],\n",
       "       [138.],\n",
       "       [178.],\n",
       "       [157.],\n",
       "       [119.],\n",
       "       [ 90.],\n",
       "       [125.],\n",
       "       [180.],\n",
       "       [144.],\n",
       "       [121.],\n",
       "       [101.],\n",
       "       [164.],\n",
       "       [125.],\n",
       "       [100.],\n",
       "       [ 78.],\n",
       "       [173.],\n",
       "       [113.],\n",
       "       [ 94.],\n",
       "       [107.],\n",
       "       [108.],\n",
       "       [ 94.],\n",
       "       [158.],\n",
       "       [117.],\n",
       "       [125.],\n",
       "       [ 98.],\n",
       "       [101.],\n",
       "       [ 95.],\n",
       "       [ 90.],\n",
       "       [119.],\n",
       "       [197.],\n",
       "       [ 71.],\n",
       "       [140.],\n",
       "       [ 99.],\n",
       "       [120.],\n",
       "       [136.],\n",
       "       [ 99.],\n",
       "       [ 85.],\n",
       "       [102.],\n",
       "       [123.],\n",
       "       [128.],\n",
       "       [120.],\n",
       "       [126.],\n",
       "       [111.],\n",
       "       [ 89.],\n",
       "       [146.],\n",
       "       [147.],\n",
       "       [146.],\n",
       "       [105.],\n",
       "       [173.],\n",
       "       [100.],\n",
       "       [112.],\n",
       "       [ 83.],\n",
       "       [137.],\n",
       "       [179.],\n",
       "       [138.],\n",
       "       [ 87.],\n",
       "       [183.],\n",
       "       [ 88.],\n",
       "       [141.],\n",
       "       [183.],\n",
       "       [184.],\n",
       "       [117.],\n",
       "       [ 99.],\n",
       "       [143.],\n",
       "       [148.],\n",
       "       [129.],\n",
       "       [128.],\n",
       "       [115.],\n",
       "       [147.],\n",
       "       [147.],\n",
       "       [ 71.],\n",
       "       [155.],\n",
       "       [105.],\n",
       "       [122.],\n",
       "       [151.],\n",
       "       [114.],\n",
       "       [171.],\n",
       "       [199.],\n",
       "       [104.],\n",
       "       [117.],\n",
       "       [ 84.],\n",
       "       [ 85.],\n",
       "       [ 89.],\n",
       "       [115.],\n",
       "       [111.],\n",
       "       [135.],\n",
       "       [ 88.],\n",
       "       [129.],\n",
       "       [133.],\n",
       "       [ 74.],\n",
       "       [ 56.],\n",
       "       [112.],\n",
       "       [119.],\n",
       "       [170.],\n",
       "       [187.],\n",
       "       [115.],\n",
       "       [174.],\n",
       "       [106.],\n",
       "       [107.],\n",
       "       [ 99.],\n",
       "       [122.],\n",
       "       [129.],\n",
       "       [176.],\n",
       "       [195.],\n",
       "       [127.],\n",
       "       [124.],\n",
       "       [ 92.],\n",
       "       [101.],\n",
       "       [100.],\n",
       "       [114.],\n",
       "       [124.],\n",
       "       [ 99.],\n",
       "       [ 93.],\n",
       "       [187.],\n",
       "       [137.],\n",
       "       [131.],\n",
       "       [173.],\n",
       "       [108.],\n",
       "       [180.],\n",
       "       [121.],\n",
       "       [ 90.],\n",
       "       [136.],\n",
       "       [198.],\n",
       "       [162.],\n",
       "       [194.],\n",
       "       [170.],\n",
       "       [103.],\n",
       "       [164.],\n",
       "       [ 91.],\n",
       "       [132.],\n",
       "       [ 82.],\n",
       "       [158.],\n",
       "       [111.],\n",
       "       [147.],\n",
       "       [137.],\n",
       "       [100.],\n",
       "       [ 77.],\n",
       "       [164.],\n",
       "       [136.],\n",
       "       [157.],\n",
       "       [152.],\n",
       "       [113.],\n",
       "       [ 78.],\n",
       "       [186.],\n",
       "       [116.],\n",
       "       [196.],\n",
       "       [101.],\n",
       "       [125.],\n",
       "       [158.],\n",
       "       [101.],\n",
       "       [128.],\n",
       "       [113.],\n",
       "       [168.],\n",
       "       [130.],\n",
       "       [119.],\n",
       "       [ 71.],\n",
       "       [112.],\n",
       "       [103.],\n",
       "       [ 92.],\n",
       "       [139.],\n",
       "       [ 91.],\n",
       "       [142.],\n",
       "       [189.],\n",
       "       [  0.],\n",
       "       [ 74.],\n",
       "       [112.],\n",
       "       [ 77.],\n",
       "       [124.],\n",
       "       [125.],\n",
       "       [116.],\n",
       "       [110.]])"
      ]
     },
     "execution_count": 443,
     "metadata": {},
     "output_type": "execute_result"
    }
   ],
   "source": [
    "x1_train,x1_test,y1_train,y1_test=train_test_split(feature_array[:,1:2],target_array,test_size=0.28,random_state=2)\n",
    "x1_train"
   ]
  },
  {
   "cell_type": "code",
   "execution_count": 444,
   "metadata": {},
   "outputs": [
    {
     "data": {
      "text/plain": [
       "((552, 1), (552, 1))"
      ]
     },
     "execution_count": 444,
     "metadata": {},
     "output_type": "execute_result"
    }
   ],
   "source": [
    "x1_train.shape,y1_train.shape"
   ]
  },
  {
   "cell_type": "code",
   "execution_count": 445,
   "metadata": {},
   "outputs": [],
   "source": [
    "LR_second=LogisticRegression()"
   ]
  },
  {
   "cell_type": "code",
   "execution_count": 446,
   "metadata": {},
   "outputs": [
    {
     "name": "stderr",
     "output_type": "stream",
     "text": [
      "c:\\users\\ankur\\appdata\\local\\programs\\python\\python36\\lib\\site-packages\\sklearn\\linear_model\\logistic.py:432: FutureWarning: Default solver will be changed to 'lbfgs' in 0.22. Specify a solver to silence this warning.\n",
      "  FutureWarning)\n",
      "c:\\users\\ankur\\appdata\\local\\programs\\python\\python36\\lib\\site-packages\\sklearn\\utils\\validation.py:752: DataConversionWarning: A column-vector y was passed when a 1d array was expected. Please change the shape of y to (n_samples, ), for example using ravel().\n",
      "  y = column_or_1d(y, warn=True)\n"
     ]
    },
    {
     "data": {
      "text/plain": [
       "LogisticRegression(C=1.0, class_weight=None, dual=False, fit_intercept=True,\n",
       "          intercept_scaling=1, max_iter=100, multi_class='warn',\n",
       "          n_jobs=None, penalty='l2', random_state=None, solver='warn',\n",
       "          tol=0.0001, verbose=0, warm_start=False)"
      ]
     },
     "execution_count": 446,
     "metadata": {},
     "output_type": "execute_result"
    }
   ],
   "source": [
    "LR_second.fit(x1_train,y1_train)"
   ]
  },
  {
   "cell_type": "code",
   "execution_count": 447,
   "metadata": {},
   "outputs": [],
   "source": [
    "LR_sec_prediction=LR_second.predict(x1_test)"
   ]
  },
  {
   "cell_type": "code",
   "execution_count": 448,
   "metadata": {},
   "outputs": [
    {
     "name": "stdout",
     "output_type": "stream",
     "text": [
      "TN=134 \n",
      "FP=13 \n",
      "FN=39 \n",
      "TP=30\n"
     ]
    }
   ],
   "source": [
    "TN,FP,FN,TP=confusion_matrix(y1_test,LR_sec_prediction).ravel()\n",
    "print('TN=%d \\nFP=%d \\nFN=%d \\nTP=%d'%(TN,FP,FN,TP))"
   ]
  },
  {
   "cell_type": "code",
   "execution_count": 449,
   "metadata": {},
   "outputs": [
    {
     "data": {
      "text/plain": [
       "0.7592592592592593"
      ]
     },
     "execution_count": 449,
     "metadata": {},
     "output_type": "execute_result"
    }
   ],
   "source": [
    "accuracy_score(y1_test,LR_sec_prediction)"
   ]
  },
  {
   "cell_type": "code",
   "execution_count": 450,
   "metadata": {},
   "outputs": [
    {
     "data": {
      "text/plain": [
       "0.43478260869565216"
      ]
     },
     "execution_count": 450,
     "metadata": {},
     "output_type": "execute_result"
    }
   ],
   "source": [
    "recall_score(y1_test,LR_sec_prediction)"
   ]
  },
  {
   "cell_type": "markdown",
   "metadata": {},
   "source": [
    "## USING SVM"
   ]
  },
  {
   "cell_type": "code",
   "execution_count": 420,
   "metadata": {},
   "outputs": [],
   "source": [
    "from sklearn.svm import LinearSVC"
   ]
  },
  {
   "cell_type": "code",
   "execution_count": 421,
   "metadata": {},
   "outputs": [],
   "source": [
    "svm_clf=LinearSVC()"
   ]
  },
  {
   "cell_type": "code",
   "execution_count": 422,
   "metadata": {},
   "outputs": [
    {
     "name": "stderr",
     "output_type": "stream",
     "text": [
      "c:\\users\\ankur\\appdata\\local\\programs\\python\\python36\\lib\\site-packages\\sklearn\\utils\\validation.py:752: DataConversionWarning: A column-vector y was passed when a 1d array was expected. Please change the shape of y to (n_samples, ), for example using ravel().\n",
      "  y = column_or_1d(y, warn=True)\n",
      "c:\\users\\ankur\\appdata\\local\\programs\\python\\python36\\lib\\site-packages\\sklearn\\svm\\base.py:922: ConvergenceWarning: Liblinear failed to converge, increase the number of iterations.\n",
      "  \"the number of iterations.\", ConvergenceWarning)\n"
     ]
    },
    {
     "data": {
      "text/plain": [
       "LinearSVC(C=1.0, class_weight=None, dual=True, fit_intercept=True,\n",
       "     intercept_scaling=1, loss='squared_hinge', max_iter=1000,\n",
       "     multi_class='ovr', penalty='l2', random_state=None, tol=0.0001,\n",
       "     verbose=0)"
      ]
     },
     "execution_count": 422,
     "metadata": {},
     "output_type": "execute_result"
    }
   ],
   "source": [
    "svm_clf.fit(x1_train,y1_train)"
   ]
  },
  {
   "cell_type": "code",
   "execution_count": 423,
   "metadata": {},
   "outputs": [],
   "source": [
    "svf_predict=svm_clf.predict(x1_test)"
   ]
  },
  {
   "cell_type": "code",
   "execution_count": 424,
   "metadata": {},
   "outputs": [
    {
     "data": {
      "text/plain": [
       "0.6428571428571429"
      ]
     },
     "execution_count": 424,
     "metadata": {},
     "output_type": "execute_result"
    }
   ],
   "source": [
    "accuracy_score(y1_test,svf_predict)"
   ]
  },
  {
   "cell_type": "code",
   "execution_count": 425,
   "metadata": {},
   "outputs": [
    {
     "data": {
      "text/plain": [
       "0.0"
      ]
     },
     "execution_count": 425,
     "metadata": {},
     "output_type": "execute_result"
    }
   ],
   "source": [
    "recall_score(y1_test,svf_predict)"
   ]
  },
  {
   "cell_type": "code",
   "execution_count": 426,
   "metadata": {},
   "outputs": [
    {
     "name": "stdout",
     "output_type": "stream",
     "text": [
      "TN=99 \n",
      "FP=0 \n",
      "FN=55 \n",
      "TP=0\n"
     ]
    }
   ],
   "source": [
    "TN,FP,FN,TP=confusion_matrix(y1_test,svf_predict).ravel()\n",
    "print('TN=%d \\nFP=%d \\nFN=%d \\nTP=%d'%(TN,FP,FN,TP))"
   ]
  },
  {
   "cell_type": "markdown",
   "metadata": {},
   "source": [
    "result\n",
    "svm accuracy-41%\n",
    "sv recall=97%\n",
    "Logistic_accuracy-78%\n",
    "Logistic_recall-54%"
   ]
  },
  {
   "cell_type": "code",
   "execution_count": 25,
   "metadata": {},
   "outputs": [],
   "source": [
    "from sklearn.preprocessing import normalize as N"
   ]
  },
  {
   "cell_type": "code",
   "execution_count": 41,
   "metadata": {},
   "outputs": [],
   "source": [
    "list1="
   ]
  },
  {
   "cell_type": "code",
   "execution_count": 48,
   "metadata": {},
   "outputs": [
    {
     "data": {
      "text/plain": [
       "array([[0.23382097, 0.08350749, 0.96868687],\n",
       "       [0.34771071, 0.13908429, 0.92722857]])"
      ]
     },
     "execution_count": 48,
     "metadata": {},
     "output_type": "execute_result"
    }
   ],
   "source": [
    "a=np.array([[14,5,58],[15,6,40]])\n",
    "N(a)"
   ]
  },
  {
   "cell_type": "code",
   "execution_count": 135,
   "metadata": {},
   "outputs": [
    {
     "name": "stdout",
     "output_type": "stream",
     "text": [
      "Correlation coefficient between Pregnancies and Outcome is 0.221898\n",
      "Correlation coefficient between Glucose and Outcome is 0.466581\n",
      "Correlation coefficient between BloodPressure and Outcome is 0.065068\n",
      "Correlation coefficient between SkinThickness and Outcome is 0.074752\n",
      "Correlation coefficient between Insulin and Outcome is 0.130548\n",
      "Correlation coefficient between BMI and Outcome is 0.292695\n",
      "Correlation coefficient between DiabetesPedigreeFunction and Outcome is 0.173844\n",
      "Correlation coefficient between Age and Outcome is 0.238356\n",
      "Correlation coefficient between Outcome and Outcome is 1.000000\n"
     ]
    }
   ],
   "source": [
    "for x in dataframe.columns:\n",
    "    z=np.corrcoef(dataframe[x],dataframe['Outcome'])\n",
    "    print('Correlation coefficient between %s and Outcome is %f'%(x,z[0][1]))"
   ]
  },
  {
   "cell_type": "code",
   "execution_count": 235,
   "metadata": {},
   "outputs": [
    {
     "data": {
      "text/plain": [
       "array([[-0.08167177, -0.07353461, -0.03352267,  0.01768309,  0.12945867,\n",
       "         0.14128198,  0.22189815,  0.54434123,  1.        ],\n",
       "       [ 0.05732789,  0.12945867,  0.1373373 ,  0.15258959,  0.22107107,\n",
       "         0.26351432,  0.33135711,  0.4665814 ,  1.        ],\n",
       "       [ 0.04126495,  0.06506836,  0.08893338,  0.14128198,  0.15258959,\n",
       "         0.20737054,  0.23952795,  0.28180529,  1.        ],\n",
       "       [-0.11397026, -0.08167177,  0.05732789,  0.07475223,  0.18392757,\n",
       "         0.20737054,  0.3925732 ,  0.43678257,  1.        ],\n",
       "       [-0.07353461, -0.04216295,  0.08893338,  0.13054795,  0.18507093,\n",
       "         0.19785906,  0.33135711,  0.43678257,  1.        ],\n",
       "       [ 0.01768309,  0.03624187,  0.14064695,  0.19785906,  0.22107107,\n",
       "         0.28180529,  0.29269466,  0.3925732 ,  1.        ],\n",
       "       [-0.03352267,  0.03356131,  0.04126495,  0.1373373 ,  0.14064695,\n",
       "         0.17384407,  0.18392757,  0.18507093,  1.        ],\n",
       "       [-0.11397026, -0.04216295,  0.03356131,  0.03624187,  0.23835598,\n",
       "         0.23952795,  0.26351432,  0.54434123,  1.        ],\n",
       "       [ 0.06506836,  0.07475223,  0.13054795,  0.17384407,  0.22189815,\n",
       "         0.23835598,  0.29269466,  0.4665814 ,  1.        ]])"
      ]
     },
     "execution_count": 235,
     "metadata": {},
     "output_type": "execute_result"
    }
   ],
   "source": [
    "final=[]\n",
    "for x in dataframe.columns:\n",
    "    matrix=[]\n",
    "    for y in dataframe.columns:\n",
    "        z=np.corrcoef(dataframe[x],dataframe[y])\n",
    "        matrix.append(z[0][1])\n",
    "    final.append(matrix)\n",
    "   # matrix.append(mat)\n",
    "#matrix=np.array(matrix).reshape(len(dataframe.columns),len(dataframe.columns))\n",
    "np.sort(final)\n",
    "#matrix.size"
   ]
  },
  {
   "cell_type": "code",
   "execution_count": 234,
   "metadata": {},
   "outputs": [
    {
     "ename": "TypeError",
     "evalue": "index() takes at least 1 argument (0 given)",
     "output_type": "error",
     "traceback": [
      "\u001b[1;31m---------------------------------------------------------------------------\u001b[0m",
      "\u001b[1;31mTypeError\u001b[0m                                 Traceback (most recent call last)",
      "\u001b[1;32m<ipython-input-234-b9dd1c6d91a4>\u001b[0m in \u001b[0;36m<module>\u001b[1;34m\u001b[0m\n\u001b[1;32m----> 1\u001b[1;33m \u001b[0mmatrix\u001b[0m\u001b[1;33m.\u001b[0m\u001b[0mindex\u001b[0m\u001b[1;33m(\u001b[0m\u001b[1;33m)\u001b[0m\u001b[1;33m\u001b[0m\u001b[0m\n\u001b[0m",
      "\u001b[1;31mTypeError\u001b[0m: index() takes at least 1 argument (0 given)"
     ]
    }
   ],
   "source": []
  },
  {
   "cell_type": "code",
   "execution_count": 207,
   "metadata": {},
   "outputs": [],
   "source": [
    "l.append(5)"
   ]
  },
  {
   "cell_type": "code",
   "execution_count": 208,
   "metadata": {},
   "outputs": [
    {
     "data": {
      "text/plain": [
       "[5, 5]"
      ]
     },
     "execution_count": 208,
     "metadata": {},
     "output_type": "execute_result"
    }
   ],
   "source": [
    "l"
   ]
  },
  {
   "cell_type": "code",
   "execution_count": 319,
   "metadata": {},
   "outputs": [],
   "source": [
    "x=[4,5,6,5]"
   ]
  },
  {
   "cell_type": "code",
   "execution_count": 464,
   "metadata": {},
   "outputs": [],
   "source": [
    "diabetic=dataframe[dataframe['Outcome']==1]\n",
    "diabetic_non=dataframe[dataframe['Outcome']==0]"
   ]
  },
  {
   "cell_type": "code",
   "execution_count": 472,
   "metadata": {},
   "outputs": [
    {
     "data": {
      "text/plain": [
       "<matplotlib.collections.PathCollection at 0x1bf7dd8f898>"
      ]
     },
     "execution_count": 472,
     "metadata": {},
     "output_type": "execute_result"
    },
    {
     "data": {
      "image/png": "[encoded data removed]",
      "text/plain": [
       "<Figure size 432x288 with 1 Axes>"
      ]
     },
     "metadata": {
      "needs_background": "light"
     },
     "output_type": "display_data"
    }
   ],
   "source": [
    "plt.scatter(diabetic['Glucose'],diabetic['Age'],color='red',marker='x')\n",
    "plt.scatter(diabetic_non['Glucose'],diabetic_non['Age'],color='lime')\n"
   ]
  },
  {
   "cell_type": "code",
   "execution_count": 411,
   "metadata": {},
   "outputs": [
    {
     "data": {
      "text/plain": [
       "(array([197., 571.]),\n",
       " array([  0. ,  99.5, 199. ]),\n",
       " <a list of 2 Patch objects>)"
      ]
     },
     "execution_count": 411,
     "metadata": {},
     "output_type": "execute_result"
    },
    {
     "data": {
      "image/png": "[encoded data removed]",
      "text/plain": [
       "<Figure size 432x288 with 1 Axes>"
      ]
     },
     "metadata": {
      "needs_background": "light"
     },
     "output_type": "display_data"
    }
   ],
   "source": [
    "plt.hist(dataframe['Glucose'],bins=2)"
   ]
  },
  {
   "cell_type": "code",
   "execution_count": 453,
   "metadata": {},
   "outputs": [
    {
     "data": {
      "text/plain": [
       "<matplotlib.axes._subplots.AxesSubplot at 0x1bf7d888400>"
      ]
     },
     "execution_count": 453,
     "metadata": {},
     "output_type": "execute_result"
    },
    {
     "data": {
      "image/png": "[encoded data removed]",
      "text/plain": [
       "<Figure size 432x288 with 1 Axes>"
      ]
     },
     "metadata": {
      "needs_background": "light"
     },
     "output_type": "display_data"
    }
   ],
   "source": [
    "sns.boxplot(dataframe['Outcome'],dataframe['Glucose'])"
   ]
  },
  {
   "cell_type": "code",
   "execution_count": null,
   "metadata": {},
   "outputs": [],
   "source": []
  }
 ],
 "metadata": {
  "kernelspec": {
   "display_name": "Python 3",
   "language": "python",
   "name": "python3"
  },
  "language_info": {
   "codemirror_mode": {
    "name": "ipython",
    "version": 3
   },
   "file_extension": ".py",
   "mimetype": "text/x-python",
   "name": "python",
   "nbconvert_exporter": "python",
   "pygments_lexer": "ipython3",
   "version": "3.6.5"
  }
 },
 "nbformat": 4,
 "nbformat_minor": 2
}
